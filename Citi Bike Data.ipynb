{
 "cells": [
  {
   "cell_type": "code",
   "execution_count": 8,
   "metadata": {},
   "outputs": [],
   "source": [
    "import os\n",
    "import pandas as pd"
   ]
  },
  {
   "cell_type": "code",
   "execution_count": 9,
   "metadata": {},
   "outputs": [],
   "source": [
    "jan19 = pd.read_csv(\"201901.csv\")\n",
    "feb19 = pd.read_csv(\"201902.csv\")\n",
    "mar19 = pd.read_csv(\"201903.csv\")\n",
    "apr19 = pd.read_csv(\"201904.csv\")\n",
    "may19 = pd.read_csv(\"201905.csv\")\n",
    "jun19 = pd.read_csv(\"201906.csv\")\n",
    "jul19 = pd.read_csv(\"201907.csv\")\n",
    "aug19 = pd.read_csv(\"201908.csv\")\n",
    "sep19 = pd.read_csv(\"201909.csv\")\n",
    "oct19 = pd.read_csv(\"201910.csv\")\n",
    "nov19 = pd.read_csv(\"201911.csv\")\n",
    "dec19 = pd.read_csv(\"201912.csv\")"
   ]
  },
  {
   "cell_type": "code",
   "execution_count": 21,
   "metadata": {},
   "outputs": [],
   "source": [
    "last_year_df = pd.concat([jan19, feb19, mar19, apr19, may19, jun19, jul19, aug19, sep19, oct19, nov19, dec19])\n",
    "\n",
    "last_year_df.to_csv(\"All 2019.csv\")"
   ]
  },
  {
   "cell_type": "code",
   "execution_count": 22,
   "metadata": {},
   "outputs": [],
   "source": [
    "firsthalf19_df = pd.concat([jan19, feb19, mar19, apr19, may19, jun19])\n",
    "\n",
    "firsthalf19_df.to_csv(\"First Half 2019.csv\")"
   ]
  }
 ],
 "metadata": {
  "kernelspec": {
   "display_name": "Python 3",
   "language": "python",
   "name": "python3"
  },
  "language_info": {
   "codemirror_mode": {
    "name": "ipython",
    "version": 3
   },
   "file_extension": ".py",
   "mimetype": "text/x-python",
   "name": "python",
   "nbconvert_exporter": "python",
   "pygments_lexer": "ipython3",
   "version": "3.6.9"
  }
 },
 "nbformat": 4,
 "nbformat_minor": 2
}
